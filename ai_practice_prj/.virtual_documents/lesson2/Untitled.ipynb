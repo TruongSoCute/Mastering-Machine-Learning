














import numpy as np
import matplotlib.pyplot as plt
from IPython.display import display





%time
N = 50
x = np.random.rand(N)
y = np.random.rand(N)
color = np.random.rand(N)
area = np.pi * (15 * np.random.rand(N)) ** 2





print(f'+ X: length={len(x):d}, [Min:{min(x):.2f}, Max:{max(x):.2f}]: 10 Samples [{x[0:10]}]')
print(f'+ Y: length={len(y):d}, [Min:{min(y):2f}, Max:{max(x):.2f}]: 10 Samples [{x[0:10]}]')
print(f'+ Color: length={len(color):d}, [Min:{min(color):2f}, Max: {max(color):2f}]: 10 Sample[{color[0:10]}]')
print(f'+ Area: length={len(area):d}, [Min:{min(area):2f}, Max: {max(area):2f}]: 10 Sample[{area[0:10]}]')





%matplotlib inline
plt.scatter(x,y, s=area, c=color, alpha=0.5)
plt.show()






