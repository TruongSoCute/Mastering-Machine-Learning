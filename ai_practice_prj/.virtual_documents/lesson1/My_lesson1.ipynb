





# Lenh 1 - In chu ra man hinh
print("Hello, Python World")


# Excute file from external
!python ex0_python.py


# Tinh Toan co ban
%run ex1_calc.py


# Tinh Toan co ban - Version 2 (Direct code)
print("Calculator Basic")
a = int(input("Enter Value A: "))
b = int(input("Enter Value B: "))
c = a + b
print("Value Of C = %d + %d = %d" % (a, b, c))


# Tinh Toan co ban - Version 3 (Fixed values demo)
print("Calculator Basic - Demo")
a = 15  # Gia tri A
b = 25  # Gia tri B
c = a + b
print("Value Of C = %d + %d = %d" % (a, b, c))
print("\n--- Thử với các giá trị khác ---")
# Test với nhiều giá trị
test_values = [(10, 20), (7, 8), (100, 50)]
for val_a, val_b in test_values:
    result = val_a + val_b
    print("Value Of C = %d + %d = %d" % (val_a, val_b, result))


# Calculator Basic - Simple Demo
print("Calculator Basic")
a = 15
b = 25
c = a + b
print(f"Value A = {a}")
print(f"Value B = {b}")
print(f"Sum C = {a} + {b} = {c}")





!jupyter nbconvert my_lesson1.ipynb --to html --output lesson1
