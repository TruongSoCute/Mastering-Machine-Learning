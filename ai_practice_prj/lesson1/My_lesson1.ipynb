{
 "cells": [
  {
   "cell_type": "markdown",
   "id": "9a8002dc-538e-4a67-a7bf-489b0a8eaa34",
   "metadata": {},
   "source": [
    "# THUC HANH TRI TUE NHAN TAO BUOI 1\n",
    "## Noi dung thuc hanh"
   ]
  },
  {
   "cell_type": "markdown",
   "id": "e8b15d72-287a-4fa2-968a-efa28f070f86",
   "metadata": {},
   "source": [
    "### In chu ra man hinh"
   ]
  },
  {
   "cell_type": "code",
   "execution_count": null,
   "id": "bac18e83-1a1c-4785-895b-8e36fd920fdc",
   "metadata": {},
   "outputs": [],
   "source": [
    "# Lenh 1 - In chu ra man hinh\n",
    "print(\"Hello, Python World\")"
   ]
  },
  {
   "cell_type": "code",
   "execution_count": 1,
   "id": "6becfe7a-a030-459d-a404-78ada75ad7d3",
   "metadata": {},
   "outputs": [
    {
     "name": "stdout",
     "output_type": "stream",
     "text": [
      "Hello, Im from external file\n"
     ]
    }
   ],
   "source": [
    "# Excute file from external\n",
    "!python ex0_python.py"
   ]
  },
  {
   "cell_type": "code",
   "execution_count": 2,
   "id": "4e9a614d-c8bc-411a-95c6-f3c20887a84d",
   "metadata": {},
   "outputs": [
    {
     "name": "stdout",
     "output_type": "stream",
     "text": [
      "Calucator Basic\n"
     ]
    },
    {
     "ename": "ValueError",
     "evalue": "invalid literal for int() with base 10: ''",
     "output_type": "error",
     "traceback": [
      "\u001b[1;31m---------------------------------------------------------------------------\u001b[0m",
      "\u001b[1;31mValueError\u001b[0m                                Traceback (most recent call last)",
      "File \u001b[1;32mD:\\MachineLearning\\ai_practice_prj\\lesson1\\ex1_calc.py:2\u001b[0m\n\u001b[0;32m      1\u001b[0m \u001b[38;5;28mprint\u001b[39m (\u001b[38;5;124m\"\u001b[39m\u001b[38;5;124mCalucator Basic\u001b[39m\u001b[38;5;124m\"\u001b[39m)\n\u001b[1;32m----> 2\u001b[0m a \u001b[38;5;241m=\u001b[39m \u001b[38;5;28mint\u001b[39m(\u001b[38;5;28minput\u001b[39m(\u001b[38;5;124m\"\u001b[39m\u001b[38;5;124mEnter Value A:\u001b[39m\u001b[38;5;124m\"\u001b[39m))\n\u001b[0;32m      3\u001b[0m b \u001b[38;5;241m=\u001b[39m \u001b[38;5;28mint\u001b[39m(\u001b[38;5;28minput\u001b[39m(\u001b[38;5;124m\"\u001b[39m\u001b[38;5;124mEnter Value B:\u001b[39m\u001b[38;5;124m\"\u001b[39m))\n\u001b[0;32m      4\u001b[0m c \u001b[38;5;241m=\u001b[39m a \u001b[38;5;241m+\u001b[39m b\n",
      "\u001b[1;31mValueError\u001b[0m: invalid literal for int() with base 10: ''"
     ]
    }
   ],
   "source": [
    "# Tinh Toan co ban\n",
    "%run ex1_calc.py"
   ]
  },
  {
   "cell_type": "code",
   "execution_count": null,
   "id": "8a46226b",
   "metadata": {},
   "outputs": [],
   "source": [
    "# Tinh Toan co ban - Version 2 (Direct code)\n",
    "print(\"Calculator Basic\")\n",
    "a = int(input(\"Enter Value A: \"))\n",
    "b = int(input(\"Enter Value B: \"))\n",
    "c = a + b\n",
    "print(\"Value Of C = %d + %d = %d\" % (a, b, c))"
   ]
  },
  {
   "cell_type": "code",
   "execution_count": 3,
   "id": "b3d51f9e",
   "metadata": {},
   "outputs": [
    {
     "name": "stdout",
     "output_type": "stream",
     "text": [
      "Calculator Basic - Demo\n",
      "Value Of C = 15 + 25 = 40\n",
      "\n",
      "--- Thử với các giá trị khác ---\n",
      "Value Of C = 10 + 20 = 30\n",
      "Value Of C = 7 + 8 = 15\n",
      "Value Of C = 100 + 50 = 150\n"
     ]
    }
   ],
   "source": [
    "# Tinh Toan co ban - Version 3 (Fixed values demo)\n",
    "print(\"Calculator Basic - Demo\")\n",
    "a = 15  # Gia tri A\n",
    "b = 25  # Gia tri B\n",
    "c = a + b\n",
    "print(\"Value Of C = %d + %d = %d\" % (a, b, c))\n",
    "print(\"\\n--- Thử với các giá trị khác ---\")\n",
    "# Test với nhiều giá trị\n",
    "test_values = [(10, 20), (7, 8), (100, 50)]\n",
    "for val_a, val_b in test_values:\n",
    "    result = val_a + val_b\n",
    "    print(\"Value Of C = %d + %d = %d\" % (val_a, val_b, result))"
   ]
  },
  {
   "cell_type": "code",
   "execution_count": 4,
   "id": "0755907f",
   "metadata": {},
   "outputs": [
    {
     "name": "stdout",
     "output_type": "stream",
     "text": [
      "Calculator Basic\n",
      "Value A = 15\n",
      "Value B = 25\n",
      "Sum C = 15 + 25 = 40\n"
     ]
    }
   ],
   "source": [
    "# Calculator Basic - Simple Demo\n",
    "print(\"Calculator Basic\")\n",
    "a = 15\n",
    "b = 25\n",
    "c = a + b\n",
    "print(f\"Value A = {a}\")\n",
    "print(f\"Value B = {b}\")\n",
    "print(f\"Sum C = {a} + {b} = {c}\")"
   ]
  },
  {
   "cell_type": "markdown",
   "id": "16e6a298-1dd2-4f46-9608-60e0ff220c6e",
   "metadata": {},
   "source": [
    "# Ket Thuc"
   ]
  },
  {
   "cell_type": "code",
   "execution_count": null,
   "id": "132665c1-fb54-4279-844d-b2fe62f1351c",
   "metadata": {},
   "outputs": [],
   "source": [
    "!jupyter nbconvert my_lesson1.ipynb --to html --output lesson1"
   ]
  }
 ],
 "metadata": {
  "kernelspec": {
   "display_name": "Python [conda env:base] *",
   "language": "python",
   "name": "conda-base-py"
  },
  "language_info": {
   "codemirror_mode": {
    "name": "ipython",
    "version": 3
   },
   "file_extension": ".py",
   "mimetype": "text/x-python",
   "name": "python",
   "nbconvert_exporter": "python",
   "pygments_lexer": "ipython3",
   "version": "3.13.5"
  }
 },
 "nbformat": 4,
 "nbformat_minor": 5
}
